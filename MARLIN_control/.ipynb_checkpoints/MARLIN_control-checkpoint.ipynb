{
 "cells": [
  {
   "cell_type": "code",
   "execution_count": 1,
   "metadata": {},
   "outputs": [],
   "source": [
    "import serial\n",
    "import serial.tools.list_ports\n",
    "import time"
   ]
  },
  {
   "cell_type": "code",
   "execution_count": null,
   "metadata": {},
   "outputs": [],
   "source": []
  },
  {
   "cell_type": "code",
   "execution_count": null,
   "metadata": {},
   "outputs": [],
   "source": []
  },
  {
   "cell_type": "code",
   "execution_count": 2,
   "metadata": {},
   "outputs": [],
   "source": [
    "class arduino:\n",
    "    def __init__(self,handshakes=2):\n",
    "        self.valvestate = 0\n",
    "        self.pumpstate = 0\n",
    "        self.titanxstates = [0 for i in range(5)]\n",
    "        self.handshakes = handshakes\n",
    "        self.titanx_states = {\"Probe 1\" : [0,2,1,12,0],\"Probe 2\": [0,3,1,12,0],\"Probe 3\": [0,4,1,12,0],\\\n",
    "                        \"Probe 4\": [0,5,1,12,0],\"Probe 5\": [0,6,1,12,0],\"Probe 6\" : [0,7,1,12,0],\\\n",
    "                        \"Probe 7\" : [0,8,1,12,0],\"Probe 8\" : [0,9,1,12,0],\"Probe 9\" : [0,10,1,12,0],\\\n",
    "                        \"Probe 10\" : [0,11,1,12,0],\"Probe 11\" : [0,12,1,12,0],\"Probe 12\" : [0,1,2,12,0],\\\n",
    "                        \"Probe 13\" : [0,1,3,12,0],\"Probe 14\" : [0,1,4,12,0],\"Probe 15\" : [0,1,5,12,0],\\\n",
    "                       \"Probe 16\" : [0,1,6,12,0],\"Probe 17\" : [0,1,7,12,0],\"Probe 18\" : [0,1,8,12,0],\\\n",
    "                        \"Probe 19\" : [0,1,9,12,0],\"Probe 20\" : [0,1,10,12,0],\"Probe 21\" : [0,1,11,12,0],\\\n",
    "                        \"Probe 22\" : [0,1,12,12,0],\"Probe 23\" : [0,1,1,1,0],\"Probe 24\" : [0,1,1,2,0],\\\n",
    "                        \"SSC\" : [0,1,1,8,0],\"PFA\" : [0,1,1,9,0],\"EtOH\" : [0,1,1,10,0],\"Image\" : [0,1,1,11,0],\\\n",
    "                        \"Cleave\" : [0,1,1,12,0]}\n",
    "        \n",
    "    def get_heartbeat(self,comport,connect_code=\"MARLIN\",timeout=10.):\n",
    "        try:\n",
    "            ti = time.time()\n",
    "            no_timeout = True\n",
    "            s = serial.Serial(comport,9600,timeout=0.5)\n",
    "            readcmd = \"5\\n\".encode('ascii')\n",
    "            while no_timeout:\n",
    "                s.write(readcmd)\n",
    "                returnedstr = s.read_until()\n",
    "                t_elapsed = time.time() - ti                    \n",
    "                if len(returnedstr) > 0:\n",
    "                    no_timeout = False\n",
    "                elif t_elapsed>timeout:\n",
    "                    no_timeout = False\n",
    "            s.close()\n",
    "            if returnedstr == \"MARLIN\":\n",
    "                return True\n",
    "            else:\n",
    "                return False\n",
    "        except (OSError, serial.SerialException):\n",
    "            return False \n",
    "        \n",
    "    def connect(self,connect_code=\"MARLIN\",timeout=10.):\n",
    "        ports = ['COM%s' % (i + 1) for i in range(256)]\n",
    "        result = []\n",
    "        for port in ports:\n",
    "            heartbeat = self.get_heartbeat(port,connect_code=connect_code,timeout=timeout)\n",
    "            if heartbeat:\n",
    "                result.append(port)\n",
    "        if len(result) == 0:\n",
    "            raise ValueError(\"No MARLIN detected.\")\n",
    "        elif len(result) == 1:\n",
    "            ti = time.time()\n",
    "            no_timeout = True\n",
    "            self.serial_handle = serial.Serial(result[0], 9600, timeout=0.5)\n",
    "            readcmd = \"5\\n\".encode('ascii')\n",
    "            while no_timeout:\n",
    "                self.serial_handle.write(readcmd)\n",
    "                returnedstr = self.serial_handle.read_until()\n",
    "                t_elapsed = time.time() - ti\n",
    "                if len(returnedstr) > 0:\n",
    "                    no_timeout = False\n",
    "                elif t_elapsed>timeout:\n",
    "                    no_timeout = False\n",
    "            if returnedstr == \"MARLIN\":\n",
    "                self.serial_handle.timeout = 10.\n",
    "                print(\"Connected.\")\n",
    "            else:\n",
    "                raise ValueError(\"MARLIN connection timeout.\")\n",
    "        else:\n",
    "            raise ValueError(\"More than one MARLIN detected.\")\n",
    "        \n",
    "        \n",
    "    def updatestate(self,valvestate,pumpstate,titanxstates):\n",
    "        self.valvestate = valvestate\n",
    "        self.pumpstate = pumpstate\n",
    "        self.titanxstates = titanxstates\n",
    "        \n",
    "    def sendstate(self,valvestate,pumpstate,titanxstates):## Note need to rewrite arduino code for handshake using\n",
    "    # newlines\n",
    "        self.updatestate(valvestate,pumpstate,titanxstates)\n",
    "        no_handshake = True\n",
    "        handshake_failed = False\n",
    "        handshake_attempts = 0\n",
    "\n",
    "        while no_handshake:\n",
    "            valvestr = \"4\" + str(self.valvestate)\n",
    "            pumpstr = str(self.pumpstate)\n",
    "            pumpstr = \"3\" + (\"0\"*(4-len(pumpstr)) + pumpstr)\n",
    "\n",
    "            titanxstrlist = []\n",
    "\n",
    "            for titannum,titanxstate in enumerate(self.titanxstates):\n",
    "                if titanxstate != 0:\n",
    "                    titanxstr = str(titanxstate)\n",
    "                    titanxstr = \"2\" + str(titannum) + (\"0\"*(2-len(titanxstr)) + titanxstr)\n",
    "                    titanxstrlist.append(titanxstr)\n",
    "\n",
    "            cmdlist = [\"\"] + [valvestr] + [pumpstr] + titanxstrlist\n",
    "\n",
    "            for cmd in cmdlist:\n",
    "                sendstr = cmd + '\\n'\n",
    "                statestr = sendstr.encode('ascii')\n",
    "                self.serial_handle.write(statestr)\n",
    "                time.sleep(0.25)\n",
    "\n",
    "            readcmd = \"0\\n\".encode('ascii')\n",
    "            self.serial_handle.write(readcmd)\n",
    "            returnedstr = self.serial_handle.read_until()[:-1]\n",
    "            self.serial_handle.reset_output_buffer()\n",
    "            self.serial_handle.reset_input_buffer()\n",
    "            checkstr = \"[\" + \",\".join([str(state) for state in self.titanxstates]) + \"];\" + str(self.valvestate) + \";\" + str(self.pumpstate)\n",
    "            \n",
    "            ###OVERRIDE FOR TESTING###\n",
    "            \n",
    "            no_handshake = False\n",
    "            print(checkstr)\n",
    "            \n",
    "#             if returnedstr == checkstr:\n",
    "#                 no_handshake = False\n",
    "#             handshake_attempts += 1\n",
    "#             if handshake_attempts >= self.handshakes:\n",
    "#                 raise Exception(\"Handshake failed.\")\n",
    "\n",
    "    def set_valve_state(self,titanx_state_name,valvestate):\n",
    "        titanxstates = self.titanx_states[titanx_state_name]\n",
    "        self.sendstate(valvestate,self.pumpstate,titanxstates)\n",
    "    \n",
    "    def set_pump_state(self,pumpstate):\n",
    "        self.sendstate(self.valvestate,pumpstate,self.titanxstates)\n",
    "        \n",
    "        "
   ]
  },
  {
   "cell_type": "code",
   "execution_count": 3,
   "metadata": {},
   "outputs": [],
   "source": [
    "ard = arduino()"
   ]
  },
  {
   "cell_type": "code",
   "execution_count": 4,
   "metadata": {},
   "outputs": [
    {
     "name": "stdout",
     "output_type": "stream",
     "text": [
      "Connected.\n"
     ]
    }
   ],
   "source": [
    "ard.connect()"
   ]
  },
  {
   "cell_type": "markdown",
   "metadata": {},
   "source": [
    "### Control Valves"
   ]
  },
  {
   "cell_type": "code",
   "execution_count": 5,
   "metadata": {},
   "outputs": [
    {
     "name": "stdout",
     "output_type": "stream",
     "text": [
      "[0,2,1,12,0];0;0\n"
     ]
    }
   ],
   "source": [
    "ard.set_valve_state(\"Probe 1\",0)"
   ]
  },
  {
   "cell_type": "markdown",
   "metadata": {},
   "source": [
    "### Control Pump"
   ]
  },
  {
   "cell_type": "code",
   "execution_count": 7,
   "metadata": {},
   "outputs": [
    {
     "name": "stdout",
     "output_type": "stream",
     "text": [
      "[0,2,1,12,0];0;0\n"
     ]
    }
   ],
   "source": [
    "ard.set_pump_state(0)"
   ]
  },
  {
   "cell_type": "markdown",
   "metadata": {},
   "source": [
    "\t3. Fixation and Decoding\n",
    "\t\ta. Flow 2X SSC + 4% PFA into device and let incubate for 10 mins (3 min fast to waste; 13 mins slow to mother machine)\n",
    "\t\tb. Flow 2X SSC 1 min fast to waste\n",
    "\t\tc. Flow 2X SSC + 50% EtOH into device and let incubate for 45 mins (3 min fast to waste; 48 mins slow to mother machine)\n",
    "\t\td. For i in number of cycles:\n",
    "\t\t\ta. Flow 2X SSC 1 min fast to waste\n",
    "\t\t\tb. Flow probe hybridization solution i into device and let incubate for 10 mins (3 min fast to waste; 13 mins slow to mother machine)\n",
    "\t\t\tc. Flow imaging solution into device and let incubate for 5 mins (3 min fast to waste; 8 mins slow to mother machine)\n",
    "\t\t\td. Image\n",
    "            e.  Flow cleavage solution into device and let incubate for 10 mins (3 min fast to waste; 13 mins slow to mother machine)"
   ]
  },
  {
   "cell_type": "markdown",
   "metadata": {},
   "source": [
    "#### Imaging Cycle with no cleave (for probe 1)"
   ]
  },
  {
   "cell_type": "code",
   "execution_count": null,
   "metadata": {},
   "outputs": [],
   "source": [
    "probe_name = \"Probe 1\"\n",
    "\n",
    "### SSC WASH ###\n",
    "ard.set_pump_state(0)\n",
    "ard.set_valve_state(\"SSC\",1)\n",
    "ard.set_pump_state(2000)\n",
    "sleep(60.)\n",
    "### HYBRIDIZATION ###\n",
    "ard.set_pump_state(0)\n",
    "ard.set_valve_state(probe_name,1)\n",
    "ard.set_pump_state(2000)\n",
    "sleep(3.*60.)\n",
    "ard.set_pump_state(300)\n",
    "ard.set_valve_state(probe_name,0)\n",
    "sleep(13.*60.)\n",
    "### IMAGING ###\n",
    "ard.set_pump_state(0)\n",
    "ard.set_valve_state(\"Image\",1)\n",
    "ard.set_pump_state(2000)\n",
    "sleep(3.*60.)\n",
    "ard.set_pump_state(300)\n",
    "ard.set_valve_state(\"Image\",0)\n",
    "sleep(8.*60.)\n",
    "print(\"Ready to image.\")"
   ]
  },
  {
   "cell_type": "markdown",
   "metadata": {},
   "source": [
    "#### Imaging Cycle with no cleave (for probes > 1)"
   ]
  },
  {
   "cell_type": "code",
   "execution_count": null,
   "metadata": {},
   "outputs": [],
   "source": [
    "probe_name = \"Probe 2\"\n",
    "\n",
    "### Cleavage ###\n",
    "ard.set_pump_state(0)\n",
    "ard.set_valve_state(\"Cleave\",1)\n",
    "ard.set_pump_state(2000)\n",
    "sleep(3.*60.)\n",
    "ard.set_pump_state(300)\n",
    "ard.set_valve_state(\"Cleave\",0)\n",
    "sleep(13.*60.)\n",
    "### SSC WASH ###\n",
    "ard.set_pump_state(0)\n",
    "ard.set_valve_state(\"SSC\",1)\n",
    "ard.set_pump_state(2000)\n",
    "sleep(60.)\n",
    "### HYBRIDIZATION ###\n",
    "ard.set_pump_state(0)\n",
    "ard.set_valve_state(probe_name,1)\n",
    "ard.set_pump_state(2000)\n",
    "sleep(3.*60.)\n",
    "ard.set_pump_state(300)\n",
    "ard.set_valve_state(probe_name,0)\n",
    "sleep(13.*60.)\n",
    "### IMAGING ###\n",
    "ard.set_pump_state(0)\n",
    "ard.set_valve_state(\"Image\",1)\n",
    "ard.set_pump_state(2000)\n",
    "sleep(3.*60.)\n",
    "ard.set_pump_state(300)\n",
    "ard.set_valve_state(\"Image\",0)\n",
    "sleep(8.*60.)\n",
    "print(\"Ready to image.\")"
   ]
  },
  {
   "cell_type": "code",
   "execution_count": null,
   "metadata": {},
   "outputs": [],
   "source": []
  },
  {
   "cell_type": "code",
   "execution_count": 8,
   "metadata": {},
   "outputs": [
    {
     "name": "stdout",
     "output_type": "stream",
     "text": [
      "[0,2,1,12,0];0;0\n",
      "[0,1,1,8,0];1;0\n",
      "[0,1,1,8,0];1;2000\n",
      "[0,1,1,8,0];1;0\n"
     ]
    },
    {
     "ename": "KeyboardInterrupt",
     "evalue": "",
     "output_type": "error",
     "traceback": [
      "\u001b[1;31m\u001b[0m",
      "\u001b[1;31mKeyboardInterrupt\u001b[0mTraceback (most recent call last)",
      "\u001b[1;32m<ipython-input-8-dc1d32ef5fc5>\u001b[0m in \u001b[0;36m<module>\u001b[1;34m()\u001b[0m\n\u001b[0;32m      8\u001b[0m \u001b[1;31m### HYBRIDIZATION ###\u001b[0m\u001b[1;33m\u001b[0m\u001b[1;33m\u001b[0m\u001b[0m\n\u001b[0;32m      9\u001b[0m \u001b[0mard\u001b[0m\u001b[1;33m.\u001b[0m\u001b[0mset_pump_state\u001b[0m\u001b[1;33m(\u001b[0m\u001b[1;36m0\u001b[0m\u001b[1;33m)\u001b[0m\u001b[1;33m\u001b[0m\u001b[0m\n\u001b[1;32m---> 10\u001b[1;33m \u001b[0mard\u001b[0m\u001b[1;33m.\u001b[0m\u001b[0mset_valve_state\u001b[0m\u001b[1;33m(\u001b[0m\u001b[0mprobe_name\u001b[0m\u001b[1;33m,\u001b[0m\u001b[1;36m1\u001b[0m\u001b[1;33m)\u001b[0m\u001b[1;33m\u001b[0m\u001b[0m\n\u001b[0m\u001b[0;32m     11\u001b[0m \u001b[0mard\u001b[0m\u001b[1;33m.\u001b[0m\u001b[0mset_pump_state\u001b[0m\u001b[1;33m(\u001b[0m\u001b[1;36m2000\u001b[0m\u001b[1;33m)\u001b[0m\u001b[1;33m\u001b[0m\u001b[0m\n\u001b[0;32m     12\u001b[0m \u001b[1;31m# sleep(3.*60.)\u001b[0m\u001b[1;33m\u001b[0m\u001b[1;33m\u001b[0m\u001b[0m\n",
      "\u001b[1;32m<ipython-input-2-744405ec3c25>\u001b[0m in \u001b[0;36mset_valve_state\u001b[1;34m(self, titanx_state_name, valvestate)\u001b[0m\n\u001b[0;32m    113\u001b[0m     \u001b[1;32mdef\u001b[0m \u001b[0mset_valve_state\u001b[0m\u001b[1;33m(\u001b[0m\u001b[0mself\u001b[0m\u001b[1;33m,\u001b[0m\u001b[0mtitanx_state_name\u001b[0m\u001b[1;33m,\u001b[0m\u001b[0mvalvestate\u001b[0m\u001b[1;33m)\u001b[0m\u001b[1;33m:\u001b[0m\u001b[1;33m\u001b[0m\u001b[0m\n\u001b[0;32m    114\u001b[0m         \u001b[0mtitanxstates\u001b[0m \u001b[1;33m=\u001b[0m \u001b[0mself\u001b[0m\u001b[1;33m.\u001b[0m\u001b[0mtitanx_states\u001b[0m\u001b[1;33m[\u001b[0m\u001b[0mtitanx_state_name\u001b[0m\u001b[1;33m]\u001b[0m\u001b[1;33m\u001b[0m\u001b[0m\n\u001b[1;32m--> 115\u001b[1;33m         \u001b[0mself\u001b[0m\u001b[1;33m.\u001b[0m\u001b[0msendstate\u001b[0m\u001b[1;33m(\u001b[0m\u001b[0mvalvestate\u001b[0m\u001b[1;33m,\u001b[0m\u001b[0mself\u001b[0m\u001b[1;33m.\u001b[0m\u001b[0mpumpstate\u001b[0m\u001b[1;33m,\u001b[0m\u001b[0mtitanxstates\u001b[0m\u001b[1;33m)\u001b[0m\u001b[1;33m\u001b[0m\u001b[0m\n\u001b[0m\u001b[0;32m    116\u001b[0m \u001b[1;33m\u001b[0m\u001b[0m\n\u001b[0;32m    117\u001b[0m     \u001b[1;32mdef\u001b[0m \u001b[0mset_pump_state\u001b[0m\u001b[1;33m(\u001b[0m\u001b[0mself\u001b[0m\u001b[1;33m,\u001b[0m\u001b[0mpumpstate\u001b[0m\u001b[1;33m)\u001b[0m\u001b[1;33m:\u001b[0m\u001b[1;33m\u001b[0m\u001b[0m\n",
      "\u001b[1;32m<ipython-input-2-744405ec3c25>\u001b[0m in \u001b[0;36msendstate\u001b[1;34m(self, valvestate, pumpstate, titanxstates)\u001b[0m\n\u001b[0;32m     95\u001b[0m             \u001b[0mreadcmd\u001b[0m \u001b[1;33m=\u001b[0m \u001b[1;34m\"0\\n\"\u001b[0m\u001b[1;33m.\u001b[0m\u001b[0mencode\u001b[0m\u001b[1;33m(\u001b[0m\u001b[1;34m'ascii'\u001b[0m\u001b[1;33m)\u001b[0m\u001b[1;33m\u001b[0m\u001b[0m\n\u001b[0;32m     96\u001b[0m             \u001b[0mself\u001b[0m\u001b[1;33m.\u001b[0m\u001b[0mserial_handle\u001b[0m\u001b[1;33m.\u001b[0m\u001b[0mwrite\u001b[0m\u001b[1;33m(\u001b[0m\u001b[0mreadcmd\u001b[0m\u001b[1;33m)\u001b[0m\u001b[1;33m\u001b[0m\u001b[0m\n\u001b[1;32m---> 97\u001b[1;33m             \u001b[0mreturnedstr\u001b[0m \u001b[1;33m=\u001b[0m \u001b[0mself\u001b[0m\u001b[1;33m.\u001b[0m\u001b[0mserial_handle\u001b[0m\u001b[1;33m.\u001b[0m\u001b[0mread_until\u001b[0m\u001b[1;33m(\u001b[0m\u001b[1;33m)\u001b[0m\u001b[1;33m[\u001b[0m\u001b[1;33m:\u001b[0m\u001b[1;33m-\u001b[0m\u001b[1;36m1\u001b[0m\u001b[1;33m]\u001b[0m\u001b[1;33m\u001b[0m\u001b[0m\n\u001b[0m\u001b[0;32m     98\u001b[0m             \u001b[0mself\u001b[0m\u001b[1;33m.\u001b[0m\u001b[0mserial_handle\u001b[0m\u001b[1;33m.\u001b[0m\u001b[0mreset_output_buffer\u001b[0m\u001b[1;33m(\u001b[0m\u001b[1;33m)\u001b[0m\u001b[1;33m\u001b[0m\u001b[0m\n\u001b[0;32m     99\u001b[0m             \u001b[0mself\u001b[0m\u001b[1;33m.\u001b[0m\u001b[0mserial_handle\u001b[0m\u001b[1;33m.\u001b[0m\u001b[0mreset_input_buffer\u001b[0m\u001b[1;33m(\u001b[0m\u001b[1;33m)\u001b[0m\u001b[1;33m\u001b[0m\u001b[0m\n",
      "\u001b[1;32mC:\\Users\\EatonDaniel\\Anaconda2\\lib\\site-packages\\serial\\serialutil.pyc\u001b[0m in \u001b[0;36mread_until\u001b[1;34m(self, terminator, size)\u001b[0m\n\u001b[0;32m    657\u001b[0m         \u001b[0mtimeout\u001b[0m \u001b[1;33m=\u001b[0m \u001b[0mTimeout\u001b[0m\u001b[1;33m(\u001b[0m\u001b[0mself\u001b[0m\u001b[1;33m.\u001b[0m\u001b[0m_timeout\u001b[0m\u001b[1;33m)\u001b[0m\u001b[1;33m\u001b[0m\u001b[0m\n\u001b[0;32m    658\u001b[0m         \u001b[1;32mwhile\u001b[0m \u001b[0mTrue\u001b[0m\u001b[1;33m:\u001b[0m\u001b[1;33m\u001b[0m\u001b[0m\n\u001b[1;32m--> 659\u001b[1;33m             \u001b[0mc\u001b[0m \u001b[1;33m=\u001b[0m \u001b[0mself\u001b[0m\u001b[1;33m.\u001b[0m\u001b[0mread\u001b[0m\u001b[1;33m(\u001b[0m\u001b[1;36m1\u001b[0m\u001b[1;33m)\u001b[0m\u001b[1;33m\u001b[0m\u001b[0m\n\u001b[0m\u001b[0;32m    660\u001b[0m             \u001b[1;32mif\u001b[0m \u001b[0mc\u001b[0m\u001b[1;33m:\u001b[0m\u001b[1;33m\u001b[0m\u001b[0m\n\u001b[0;32m    661\u001b[0m                 \u001b[0mline\u001b[0m \u001b[1;33m+=\u001b[0m \u001b[0mc\u001b[0m\u001b[1;33m\u001b[0m\u001b[0m\n",
      "\u001b[1;32mC:\\Users\\EatonDaniel\\Anaconda2\\lib\\site-packages\\serial\\serialwin32.pyc\u001b[0m in \u001b[0;36mread\u001b[1;34m(self, size)\u001b[0m\n\u001b[0;32m    288\u001b[0m                     \u001b[0mctypes\u001b[0m\u001b[1;33m.\u001b[0m\u001b[0mbyref\u001b[0m\u001b[1;33m(\u001b[0m\u001b[0mself\u001b[0m\u001b[1;33m.\u001b[0m\u001b[0m_overlapped_read\u001b[0m\u001b[1;33m)\u001b[0m\u001b[1;33m,\u001b[0m\u001b[1;33m\u001b[0m\u001b[0m\n\u001b[0;32m    289\u001b[0m                     \u001b[0mctypes\u001b[0m\u001b[1;33m.\u001b[0m\u001b[0mbyref\u001b[0m\u001b[1;33m(\u001b[0m\u001b[0mrc\u001b[0m\u001b[1;33m)\u001b[0m\u001b[1;33m,\u001b[0m\u001b[1;33m\u001b[0m\u001b[0m\n\u001b[1;32m--> 290\u001b[1;33m                     True)\n\u001b[0m\u001b[0;32m    291\u001b[0m                 \u001b[1;32mif\u001b[0m \u001b[1;32mnot\u001b[0m \u001b[0mresult_ok\u001b[0m\u001b[1;33m:\u001b[0m\u001b[1;33m\u001b[0m\u001b[0m\n\u001b[0;32m    292\u001b[0m                     \u001b[1;32mif\u001b[0m \u001b[0mwin32\u001b[0m\u001b[1;33m.\u001b[0m\u001b[0mGetLastError\u001b[0m\u001b[1;33m(\u001b[0m\u001b[1;33m)\u001b[0m \u001b[1;33m!=\u001b[0m \u001b[0mwin32\u001b[0m\u001b[1;33m.\u001b[0m\u001b[0mERROR_OPERATION_ABORTED\u001b[0m\u001b[1;33m:\u001b[0m\u001b[1;33m\u001b[0m\u001b[0m\n",
      "\u001b[1;31mKeyboardInterrupt\u001b[0m: "
     ]
    }
   ],
   "source": [
    "probe_name = \"Probe 1\"\n",
    "\n",
    "### SSC WASH ###\n",
    "ard.set_pump_state(0)\n",
    "ard.set_valve_state(\"SSC\",1)\n",
    "ard.set_pump_state(2000)\n",
    "# sleep(60.)\n",
    "### HYBRIDIZATION ###\n",
    "ard.set_pump_state(0)\n",
    "ard.set_valve_state(probe_name,1)\n",
    "ard.set_pump_state(2000)\n",
    "# sleep(3.*60.)\n",
    "ard.set_pump_state(300)\n",
    "ard.set_valve_state(probe_name,0)\n",
    "# sleep(13.*60.)\n",
    "### IMAGING ###\n",
    "ard.set_pump_state(0)\n",
    "ard.set_valve_state(\"Image\",1)\n",
    "ard.set_pump_state(2000)\n",
    "# sleep(3.*60.)\n",
    "ard.set_pump_state(300)\n",
    "ard.set_valve_state(\"Image\",0)\n",
    "# sleep(8.*60.)\n",
    "print(\"Ready to image.\")"
   ]
  },
  {
   "cell_type": "code",
   "execution_count": null,
   "metadata": {},
   "outputs": [],
   "source": []
  }
 ],
 "metadata": {
  "kernelspec": {
   "display_name": "Python 2",
   "language": "python",
   "name": "python2"
  },
  "language_info": {
   "codemirror_mode": {
    "name": "ipython",
    "version": 2
   },
   "file_extension": ".py",
   "mimetype": "text/x-python",
   "name": "python",
   "nbconvert_exporter": "python",
   "pygments_lexer": "ipython2",
   "version": "2.7.16"
  }
 },
 "nbformat": 4,
 "nbformat_minor": 2
}
