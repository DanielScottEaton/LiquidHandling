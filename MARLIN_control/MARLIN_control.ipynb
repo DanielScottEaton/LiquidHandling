{
 "cells": [
  {
   "cell_type": "code",
   "execution_count": 1,
   "metadata": {},
   "outputs": [],
   "source": [
    "import serial\n",
    "import serial.tools.list_ports\n",
    "from time import sleep"
   ]
  },
  {
   "cell_type": "code",
   "execution_count": 2,
   "metadata": {},
   "outputs": [],
   "source": [
    "class arduino:\n",
    "    def __init__(self,comport_num,handshakes=2):\n",
    "        self.comport = 'COM' + str(comport_num)\n",
    "        self.serial_handle = serial.Serial(self.comport, 9600)\n",
    "        self.valvestate = 0\n",
    "        self.pumpstate = 0\n",
    "        self.titanxstates = [0 for i in range(5)]\n",
    "        self.handshakes = handshakes\n",
    "    def updatestate(self,valvestate,pumpstate,titanxstates):\n",
    "        self.valvestate = valvestate\n",
    "        self.pumpstate = pumpstate\n",
    "        self.titanxstates = titanxstates\n",
    "    def sendstate(self,valvestate,pumpstate,titanxstates):## Note need to rewrite arduino code for handshake using\n",
    "    # newlines\n",
    "        self.updatestate(valvestate,pumpstate,titanxstates)\n",
    "        no_handshake = True\n",
    "        handshake_failed = False\n",
    "        handshake_attempts = 0\n",
    "\n",
    "        while no_handshake:\n",
    "            valvestr = \"4\" + str(self.valvestate)\n",
    "            pumpstr = str(self.pumpstate)\n",
    "            pumpstr = \"3\" + (\"0\"*(4-len(pumpstr)) + pumpstr)\n",
    "\n",
    "            titanxstrlist = []\n",
    "\n",
    "            for titannum,titanxstate in enumerate(self.titanxstates):\n",
    "                if titanxstate != 0:\n",
    "                    titanxstr = str(titanxstate)\n",
    "                    titanxstr = \"2\" + str(titannum) + (\"0\"*(2-len(titanxstr)) + titanxstr)\n",
    "                    titanxstrlist.append(titanxstr)\n",
    "\n",
    "            cmdlist = [\"\"] + [valvestr] + [pumpstr] + titanxstrlist\n",
    "\n",
    "            for cmd in cmdlist:\n",
    "                sendstr = cmd + '\\n'\n",
    "                statestr = sendstr.encode('ascii')\n",
    "                self.serial_handle.write(statestr)\n",
    "                sleep(0.25)\n",
    "\n",
    "            readcmd = \"0\\n\".encode('ascii')\n",
    "            self.serial_handle.write(readcmd)\n",
    "            returnedstr = self.serial_handle.read_until()[:-1]\n",
    "            self.serial_handle.reset_output_buffer()\n",
    "            self.serial_handle.reset_input_buffer()\n",
    "            checkstr = \"[\" + \",\".join([str(state) for state in self.titanxstates]) + \"];\" + str(self.valvestate) + \";\" + str(self.pumpstate)\n",
    "            if returnedstr == checkstr:\n",
    "                no_handshake = False\n",
    "            handshake_attempts += 1\n",
    "            if handshake_attempts >= self.handshakes:\n",
    "                raise Exception(\"Handshake failed.\")\n",
    "\n",
    "#         print cmdlist                \n",
    "            \n",
    "#             statestr = ''.join(str(item) for item in self.valvestate) + pumpstr + '\\n'\n",
    "#             statestr = statestr.encode('ascii')\n",
    "#             self.serial_handle.reset_output_buffer()\n",
    "#             self.serial_handle.reset_input_buffer()\n",
    "#             self.serial_handle.write(statestr)\n",
    "#             sleep(0.5)\n",
    "#             returnedstr = self.serial_handle.read_until() #Not sure if this includes the newline\n",
    "#             if statestr.strip() == returnedstr.strip():\n",
    "#                 no_handshake = False"
   ]
  },
  {
   "cell_type": "code",
   "execution_count": 3,
   "metadata": {},
   "outputs": [],
   "source": [
    "ard = arduino(3)"
   ]
  },
  {
   "cell_type": "code",
   "execution_count": 4,
   "metadata": {},
   "outputs": [
    {
     "ename": "Exception",
     "evalue": "Handshake failed.",
     "output_type": "error",
     "traceback": [
      "\u001b[1;31m\u001b[0m",
      "\u001b[1;31mException\u001b[0mTraceback (most recent call last)",
      "\u001b[1;32m<ipython-input-4-ffa235d5943f>\u001b[0m in \u001b[0;36m<module>\u001b[1;34m()\u001b[0m\n\u001b[1;32m----> 1\u001b[1;33m \u001b[0mard\u001b[0m\u001b[1;33m.\u001b[0m\u001b[0msendstate\u001b[0m\u001b[1;33m(\u001b[0m\u001b[1;36m1\u001b[0m\u001b[1;33m,\u001b[0m\u001b[1;36m1000\u001b[0m\u001b[1;33m,\u001b[0m\u001b[1;33m[\u001b[0m\u001b[1;36m0\u001b[0m\u001b[1;33m,\u001b[0m\u001b[1;36m1\u001b[0m\u001b[1;33m,\u001b[0m\u001b[1;36m1\u001b[0m\u001b[1;33m,\u001b[0m\u001b[1;36m12\u001b[0m\u001b[1;33m,\u001b[0m\u001b[1;36m0\u001b[0m\u001b[1;33m]\u001b[0m\u001b[1;33m)\u001b[0m\u001b[1;33m\u001b[0m\u001b[0m\n\u001b[0m",
      "\u001b[1;32m<ipython-input-2-5306b6be9dc5>\u001b[0m in \u001b[0;36msendstate\u001b[1;34m(self, valvestate, pumpstate, titanxstates)\u001b[0m\n\u001b[0;32m     49\u001b[0m             \u001b[0mhandshake_attempts\u001b[0m \u001b[1;33m+=\u001b[0m \u001b[1;36m1\u001b[0m\u001b[1;33m\u001b[0m\u001b[0m\n\u001b[0;32m     50\u001b[0m             \u001b[1;32mif\u001b[0m \u001b[0mhandshake_attempts\u001b[0m \u001b[1;33m>=\u001b[0m \u001b[0mself\u001b[0m\u001b[1;33m.\u001b[0m\u001b[0mhandshakes\u001b[0m\u001b[1;33m:\u001b[0m\u001b[1;33m\u001b[0m\u001b[0m\n\u001b[1;32m---> 51\u001b[1;33m                 \u001b[1;32mraise\u001b[0m \u001b[0mException\u001b[0m\u001b[1;33m(\u001b[0m\u001b[1;34m\"Handshake failed.\"\u001b[0m\u001b[1;33m)\u001b[0m\u001b[1;33m\u001b[0m\u001b[0m\n\u001b[0m\u001b[0;32m     52\u001b[0m \u001b[1;33m\u001b[0m\u001b[0m\n\u001b[0;32m     53\u001b[0m \u001b[1;31m#         print cmdlist\u001b[0m\u001b[1;33m\u001b[0m\u001b[1;33m\u001b[0m\u001b[0m\n",
      "\u001b[1;31mException\u001b[0m: Handshake failed."
     ]
    }
   ],
   "source": [
    "ard.sendstate(1,1000,[0,1,1,12,0])"
   ]
  },
  {
   "cell_type": "code",
   "execution_count": null,
   "metadata": {},
   "outputs": [],
   "source": [
    "ard.serial_handle.read_all()"
   ]
  }
 ],
 "metadata": {
  "kernelspec": {
   "display_name": "Python 2",
   "language": "python",
   "name": "python2"
  },
  "language_info": {
   "codemirror_mode": {
    "name": "ipython",
    "version": 2
   },
   "file_extension": ".py",
   "mimetype": "text/x-python",
   "name": "python",
   "nbconvert_exporter": "python",
   "pygments_lexer": "ipython2",
   "version": "2.7.16"
  }
 },
 "nbformat": 4,
 "nbformat_minor": 2
}
