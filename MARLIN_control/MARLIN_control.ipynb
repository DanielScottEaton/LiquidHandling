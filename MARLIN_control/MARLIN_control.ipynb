{
 "cells": [
  {
   "cell_type": "code",
   "execution_count": 1,
   "metadata": {},
   "outputs": [],
   "source": [
    "import serial\n",
    "import serial.tools.list_ports\n",
    "import time\n",
    "from time import sleep"
   ]
  },
  {
   "cell_type": "code",
   "execution_count": null,
   "metadata": {},
   "outputs": [],
   "source": []
  },
  {
   "cell_type": "code",
   "execution_count": null,
   "metadata": {},
   "outputs": [],
   "source": []
  },
  {
   "cell_type": "code",
   "execution_count": 2,
   "metadata": {},
   "outputs": [],
   "source": [
    "class arduino:\n",
    "    def __init__(self,handshakes=2):\n",
    "        self.valvestate = 0\n",
    "        self.pumpstate = 0\n",
    "        self.titanxstates = [0 for i in range(5)]\n",
    "        self.handshakes = handshakes\n",
    "        self.titanx_states = {\"Probe 1\" : [0,2,1,12,0],\"Probe 2\": [0,3,1,12,0],\"Probe 3\": [0,4,1,12,0],\\\n",
    "                        \"Probe 4\": [0,5,1,12,0],\"Probe 5\": [0,6,1,12,0],\"Probe 6\" : [0,7,1,12,0],\\\n",
    "                        \"Probe 7\" : [0,8,1,12,0],\"Probe 8\" : [0,9,1,12,0],\"Probe 9\" : [0,10,1,12,0],\\\n",
    "                        \"Probe 10\" : [0,11,1,12,0],\"Probe 11\" : [0,12,1,12,0],\"Probe 12\" : [0,1,2,12,0],\\\n",
    "                        \"Probe 13\" : [0,1,3,12,0],\"Probe 14\" : [0,1,4,12,0],\"Probe 15\" : [0,1,5,12,0],\\\n",
    "                       \"Probe 16\" : [0,1,6,12,0],\"Probe 17\" : [0,1,7,12,0],\"Probe 18\" : [0,1,8,12,0],\\\n",
    "                        \"Probe 19\" : [0,1,9,12,0],\"Probe 20\" : [0,1,10,12,0],\"Probe 21\" : [0,1,11,12,0],\\\n",
    "                        \"Probe 22\" : [0,1,12,12,0],\"Probe 23\" : [0,1,1,1,0],\"Probe 24\" : [0,1,1,2,0],\\\n",
    "                        \"SSC\" : [0,1,1,8,0],\"PFA\" : [0,1,1,9,0],\"EtOH\" : [0,1,1,10,0],\"Image\" : [0,1,1,11,0],\\\n",
    "                        \"Cleave\" : [0,1,1,12,0]}\n",
    "        \n",
    "    def get_heartbeat(self,comport,connect_code=\"MARLIN\",timeout=10.):\n",
    "        try:\n",
    "            ti = time.time()\n",
    "            no_timeout = True\n",
    "            s = serial.Serial(comport,9600,timeout=0.5)\n",
    "            readcmd = \"5\\n\".encode('ascii')\n",
    "            while no_timeout:\n",
    "                s.write(readcmd)\n",
    "                returnedstr = s.read_until()\n",
    "                t_elapsed = time.time() - ti                    \n",
    "                if len(returnedstr) > 0:\n",
    "                    no_timeout = False\n",
    "                elif t_elapsed>timeout:\n",
    "                    no_timeout = False\n",
    "            s.close()\n",
    "            if returnedstr == \"MARLIN\":\n",
    "                return True\n",
    "            else:\n",
    "                return False\n",
    "        except (OSError, serial.SerialException):\n",
    "            return False \n",
    "        \n",
    "    def connect(self,connect_code=\"MARLIN\",timeout=10.):\n",
    "        ports = ['COM%s' % (i + 1) for i in range(256)]\n",
    "        result = []\n",
    "        for port in ports:\n",
    "            heartbeat = self.get_heartbeat(port,connect_code=connect_code,timeout=timeout)\n",
    "            if heartbeat:\n",
    "                result.append(port)\n",
    "        if len(result) == 0:\n",
    "            raise ValueError(\"No MARLIN detected.\")\n",
    "        elif len(result) == 1:\n",
    "            ti = time.time()\n",
    "            no_timeout = True\n",
    "            self.serial_handle = serial.Serial(result[0], 9600, timeout=0.5)\n",
    "            readcmd = \"5\\n\".encode('ascii')\n",
    "            while no_timeout:\n",
    "                self.serial_handle.write(readcmd)\n",
    "                returnedstr = self.serial_handle.read_until()\n",
    "                t_elapsed = time.time() - ti\n",
    "                if len(returnedstr) > 0:\n",
    "                    no_timeout = False\n",
    "                elif t_elapsed>timeout:\n",
    "                    no_timeout = False\n",
    "            if returnedstr == \"MARLIN\":\n",
    "                self.serial_handle.timeout = 10.\n",
    "                print(\"Connected.\")\n",
    "            else:\n",
    "                raise ValueError(\"MARLIN connection timeout.\")\n",
    "        else:\n",
    "            raise ValueError(\"More than one MARLIN detected.\")\n",
    "        \n",
    "        \n",
    "    def updatestate(self,valvestate,pumpstate,titanxstates):\n",
    "        self.valvestate = valvestate\n",
    "        self.pumpstate = pumpstate\n",
    "        self.titanxstates = titanxstates\n",
    "        \n",
    "    def sendstate(self,valvestate,pumpstate,titanxstates):## Note need to rewrite arduino code for handshake using\n",
    "    # newlines\n",
    "        self.updatestate(valvestate,pumpstate,titanxstates)\n",
    "        no_handshake = True\n",
    "        handshake_failed = False\n",
    "        handshake_attempts = 0\n",
    "\n",
    "        while no_handshake:\n",
    "            valvestr = \"4\" + str(self.valvestate)\n",
    "            pumpstr = str(self.pumpstate)\n",
    "            pumpstr = \"3\" + (\"0\"*(4-len(pumpstr)) + pumpstr)\n",
    "\n",
    "            titanxstrlist = []\n",
    "\n",
    "            for titannum,titanxstate in enumerate(self.titanxstates):\n",
    "                if titanxstate != 0:\n",
    "                    titanxstr = str(titanxstate)\n",
    "                    titanxstr = \"2\" + str(titannum) + (\"0\"*(2-len(titanxstr)) + titanxstr)\n",
    "                    titanxstrlist.append(titanxstr)\n",
    "\n",
    "            cmdlist = [\"\"] + [valvestr] + [pumpstr] + titanxstrlist\n",
    "\n",
    "            for cmd in cmdlist:\n",
    "                sendstr = cmd + '\\n'\n",
    "                statestr = sendstr.encode('ascii')\n",
    "                self.serial_handle.write(statestr)\n",
    "                time.sleep(0.25)\n",
    "\n",
    "            readcmd = \"0\\n\".encode('ascii')\n",
    "            self.serial_handle.write(readcmd)\n",
    "            returnedstr = self.serial_handle.read_until()[:-1]\n",
    "            self.serial_handle.reset_output_buffer()\n",
    "            self.serial_handle.reset_input_buffer()\n",
    "            checkstr = \"[\" + \",\".join([str(state) for state in self.titanxstates]) + \"];\" + str(self.valvestate) + \";\" + str(self.pumpstate)\n",
    "            \n",
    "            ###OVERRIDE FOR TESTING###\n",
    "            \n",
    "#             no_handshake = False\n",
    "#             print checkstr.strip()\n",
    "            print returnedstr.strip()\n",
    "            \n",
    "            if returnedstr.strip() == checkstr.strip():\n",
    "                no_handshake = False\n",
    "            handshake_attempts += 1\n",
    "            if handshake_attempts >= self.handshakes:\n",
    "                raise Exception(\"Handshake failed.\")\n",
    "\n",
    "    def set_valve_state(self,titanx_state_name,valvestate):\n",
    "        titanxstates = self.titanx_states[titanx_state_name]\n",
    "        self.sendstate(valvestate,self.pumpstate,titanxstates)\n",
    "    \n",
    "    def set_pump_state(self,pumpstate):\n",
    "        self.sendstate(self.valvestate,pumpstate,self.titanxstates)\n",
    "        \n",
    "        "
   ]
  },
  {
   "cell_type": "code",
   "execution_count": 3,
   "metadata": {},
   "outputs": [],
   "source": [
    "ard = arduino()"
   ]
  },
  {
   "cell_type": "code",
   "execution_count": 4,
   "metadata": {},
   "outputs": [
    {
     "name": "stdout",
     "output_type": "stream",
     "text": [
      "Connected.\n"
     ]
    }
   ],
   "source": [
    "ard.connect()"
   ]
  },
  {
   "cell_type": "markdown",
   "metadata": {},
   "source": [
    "### Control Valves"
   ]
  },
  {
   "cell_type": "code",
   "execution_count": 15,
   "metadata": {},
   "outputs": [
    {
     "name": "stdout",
     "output_type": "stream",
     "text": [
      "[0,1,1,11,0];0;300\n"
     ]
    }
   ],
   "source": [
    "# ard.set_valve_state(\"PFA\",1)\n",
    "ard.set_valve_state(\"Image\",0)\n",
    "###Currently need to init state"
   ]
  },
  {
   "cell_type": "markdown",
   "metadata": {},
   "source": [
    "### Control Pump"
   ]
  },
  {
   "cell_type": "code",
   "execution_count": 17,
   "metadata": {},
   "outputs": [
    {
     "name": "stdout",
     "output_type": "stream",
     "text": [
      "[0,1,1,11,0];0;0\n"
     ]
    }
   ],
   "source": [
    "ard.set_pump_state(0)"
   ]
  },
  {
   "cell_type": "markdown",
   "metadata": {},
   "source": [
    "\t3. Fixation and Decoding\n",
    "\t\ta. Flow 2X SSC + 4% PFA into device and let incubate for 10 mins (3 min fast to waste; 13 mins slow to mother machine)\n",
    "\t\tb. Flow 2X SSC 1 min fast to waste\n",
    "\t\tc. Flow 2X SSC + 50% EtOH into device and let incubate for 45 mins (3 min fast to waste; 48 mins slow to mother machine)\n",
    "\t\td. For i in number of cycles:\n",
    "\t\t\ta. Flow 2X SSC 1 min fast to waste\n",
    "\t\t\tb. Flow probe hybridization solution i into device and let incubate for 10 mins (3 min fast to waste; 13 mins slow to mother machine)\n",
    "\t\t\tc. Flow imaging solution into device and let incubate for 5 mins (3 min fast to waste; 8 mins slow to mother machine)\n",
    "\t\t\td. Image\n",
    "            e.  Flow cleavage solution into device and let incubate for 10 mins (3 min fast to waste; 13 mins slow to mother machine)"
   ]
  },
  {
   "cell_type": "markdown",
   "metadata": {},
   "source": [
    "#### 50% Methanol:Acetone"
   ]
  },
  {
   "cell_type": "code",
   "execution_count": 10,
   "metadata": {},
   "outputs": [
    {
     "name": "stderr",
     "output_type": "stream",
     "text": [
      "ERROR:root:Internal Python error in the inspect module.\n",
      "Below is the traceback from this internal error.\n",
      "\n"
     ]
    },
    {
     "name": "stdout",
     "output_type": "stream",
     "text": [
      "Traceback (most recent call last):\n",
      "  File \"C:\\ProgramData\\Anaconda2\\lib\\site-packages\\IPython\\core\\ultratb.py\", line 1132, in get_records\n",
      "    return _fixed_getinnerframes(etb, number_of_lines_of_context, tb_offset)\n",
      "  File \"C:\\ProgramData\\Anaconda2\\lib\\site-packages\\IPython\\core\\ultratb.py\", line 313, in wrapped\n",
      "    return f(*args, **kwargs)\n",
      "  File \"C:\\ProgramData\\Anaconda2\\lib\\site-packages\\IPython\\core\\ultratb.py\", line 358, in _fixed_getinnerframes\n",
      "    records = fix_frame_records_filenames(inspect.getinnerframes(etb, context))\n",
      "  File \"C:\\ProgramData\\Anaconda2\\lib\\inspect.py\", line 1058, in getinnerframes\n",
      "    framelist.append((tb.tb_frame,) + getframeinfo(tb, context))\n",
      "  File \"C:\\ProgramData\\Anaconda2\\lib\\inspect.py\", line 1018, in getframeinfo\n",
      "    filename = getsourcefile(frame) or getfile(frame)\n",
      "  File \"C:\\ProgramData\\Anaconda2\\lib\\inspect.py\", line 453, in getsourcefile\n",
      "    if hasattr(getmodule(object, filename), '__loader__'):\n",
      "  File \"C:\\ProgramData\\Anaconda2\\lib\\inspect.py\", line 499, in getmodule\n",
      "    os.path.realpath(f)] = module.__name__\n",
      "  File \"C:\\ProgramData\\Anaconda2\\lib\\ntpath.py\", line 495, in abspath\n",
      "    return normpath(path)\n",
      "  File \"C:\\ProgramData\\Anaconda2\\lib\\ntpath.py\", line 426, in normpath\n",
      "    prefix, path = splitdrive(path)\n",
      "KeyboardInterrupt\n"
     ]
    },
    {
     "ename": "IndexError",
     "evalue": "string index out of range",
     "output_type": "error",
     "traceback": [
      "\u001b[1;31m\u001b[0m",
      "\u001b[1;31mIndexError\u001b[0mTraceback (most recent call last)",
      "\u001b[1;32mC:\\ProgramData\\Anaconda2\\lib\\site-packages\\IPython\\core\\interactiveshell.pyc\u001b[0m in \u001b[0;36mrun_code\u001b[1;34m(self, code_obj, result)\u001b[0m\n\u001b[0;32m   2893\u001b[0m             \u001b[1;32mif\u001b[0m \u001b[0mresult\u001b[0m \u001b[1;32mis\u001b[0m \u001b[1;32mnot\u001b[0m \u001b[0mNone\u001b[0m\u001b[1;33m:\u001b[0m\u001b[1;33m\u001b[0m\u001b[0m\n\u001b[0;32m   2894\u001b[0m                 \u001b[0mresult\u001b[0m\u001b[1;33m.\u001b[0m\u001b[0merror_in_exec\u001b[0m \u001b[1;33m=\u001b[0m \u001b[0msys\u001b[0m\u001b[1;33m.\u001b[0m\u001b[0mexc_info\u001b[0m\u001b[1;33m(\u001b[0m\u001b[1;33m)\u001b[0m\u001b[1;33m[\u001b[0m\u001b[1;36m1\u001b[0m\u001b[1;33m]\u001b[0m\u001b[1;33m\u001b[0m\u001b[0m\n\u001b[1;32m-> 2895\u001b[1;33m             \u001b[0mself\u001b[0m\u001b[1;33m.\u001b[0m\u001b[0mshowtraceback\u001b[0m\u001b[1;33m(\u001b[0m\u001b[1;33m)\u001b[0m\u001b[1;33m\u001b[0m\u001b[0m\n\u001b[0m\u001b[0;32m   2896\u001b[0m         \u001b[1;32melse\u001b[0m\u001b[1;33m:\u001b[0m\u001b[1;33m\u001b[0m\u001b[0m\n\u001b[0;32m   2897\u001b[0m             \u001b[0moutflag\u001b[0m \u001b[1;33m=\u001b[0m \u001b[1;36m0\u001b[0m\u001b[1;33m\u001b[0m\u001b[0m\n",
      "\u001b[1;32mC:\\ProgramData\\Anaconda2\\lib\\site-packages\\IPython\\core\\interactiveshell.pyc\u001b[0m in \u001b[0;36mshowtraceback\u001b[1;34m(self, exc_tuple, filename, tb_offset, exception_only)\u001b[0m\n\u001b[0;32m   1824\u001b[0m                     \u001b[1;32mexcept\u001b[0m \u001b[0mException\u001b[0m\u001b[1;33m:\u001b[0m\u001b[1;33m\u001b[0m\u001b[0m\n\u001b[0;32m   1825\u001b[0m                         stb = self.InteractiveTB.structured_traceback(etype,\n\u001b[1;32m-> 1826\u001b[1;33m                                             value, tb, tb_offset=tb_offset)\n\u001b[0m\u001b[0;32m   1827\u001b[0m \u001b[1;33m\u001b[0m\u001b[0m\n\u001b[0;32m   1828\u001b[0m                     \u001b[0mself\u001b[0m\u001b[1;33m.\u001b[0m\u001b[0m_showtraceback\u001b[0m\u001b[1;33m(\u001b[0m\u001b[0metype\u001b[0m\u001b[1;33m,\u001b[0m \u001b[0mvalue\u001b[0m\u001b[1;33m,\u001b[0m \u001b[0mstb\u001b[0m\u001b[1;33m)\u001b[0m\u001b[1;33m\u001b[0m\u001b[0m\n",
      "\u001b[1;32mC:\\ProgramData\\Anaconda2\\lib\\site-packages\\IPython\\core\\ultratb.pyc\u001b[0m in \u001b[0;36mstructured_traceback\u001b[1;34m(self, etype, value, tb, tb_offset, number_of_lines_of_context)\u001b[0m\n\u001b[0;32m   1409\u001b[0m         \u001b[0mself\u001b[0m\u001b[1;33m.\u001b[0m\u001b[0mtb\u001b[0m \u001b[1;33m=\u001b[0m \u001b[0mtb\u001b[0m\u001b[1;33m\u001b[0m\u001b[0m\n\u001b[0;32m   1410\u001b[0m         return FormattedTB.structured_traceback(\n\u001b[1;32m-> 1411\u001b[1;33m             self, etype, value, tb, tb_offset, number_of_lines_of_context)\n\u001b[0m\u001b[0;32m   1412\u001b[0m \u001b[1;33m\u001b[0m\u001b[0m\n\u001b[0;32m   1413\u001b[0m \u001b[1;33m\u001b[0m\u001b[0m\n",
      "\u001b[1;32mC:\\ProgramData\\Anaconda2\\lib\\site-packages\\IPython\\core\\ultratb.pyc\u001b[0m in \u001b[0;36mstructured_traceback\u001b[1;34m(self, etype, value, tb, tb_offset, number_of_lines_of_context)\u001b[0m\n\u001b[0;32m   1317\u001b[0m             \u001b[1;31m# Verbose modes need a full traceback\u001b[0m\u001b[1;33m\u001b[0m\u001b[1;33m\u001b[0m\u001b[0m\n\u001b[0;32m   1318\u001b[0m             return VerboseTB.structured_traceback(\n\u001b[1;32m-> 1319\u001b[1;33m                 \u001b[0mself\u001b[0m\u001b[1;33m,\u001b[0m \u001b[0metype\u001b[0m\u001b[1;33m,\u001b[0m \u001b[0mvalue\u001b[0m\u001b[1;33m,\u001b[0m \u001b[0mtb\u001b[0m\u001b[1;33m,\u001b[0m \u001b[0mtb_offset\u001b[0m\u001b[1;33m,\u001b[0m \u001b[0mnumber_of_lines_of_context\u001b[0m\u001b[1;33m\u001b[0m\u001b[0m\n\u001b[0m\u001b[0;32m   1320\u001b[0m             )\n\u001b[0;32m   1321\u001b[0m         \u001b[1;32melse\u001b[0m\u001b[1;33m:\u001b[0m\u001b[1;33m\u001b[0m\u001b[0m\n",
      "\u001b[1;32mC:\\ProgramData\\Anaconda2\\lib\\site-packages\\IPython\\core\\ultratb.pyc\u001b[0m in \u001b[0;36mstructured_traceback\u001b[1;34m(self, etype, evalue, etb, tb_offset, number_of_lines_of_context)\u001b[0m\n\u001b[0;32m   1202\u001b[0m                 \u001b[0mstructured_traceback_parts\u001b[0m \u001b[1;33m+=\u001b[0m \u001b[0mformatted_exception\u001b[0m\u001b[1;33m\u001b[0m\u001b[0m\n\u001b[0;32m   1203\u001b[0m         \u001b[1;32melse\u001b[0m\u001b[1;33m:\u001b[0m\u001b[1;33m\u001b[0m\u001b[0m\n\u001b[1;32m-> 1204\u001b[1;33m             \u001b[0mstructured_traceback_parts\u001b[0m \u001b[1;33m+=\u001b[0m \u001b[0mformatted_exception\u001b[0m\u001b[1;33m[\u001b[0m\u001b[1;36m0\u001b[0m\u001b[1;33m]\u001b[0m\u001b[1;33m\u001b[0m\u001b[0m\n\u001b[0m\u001b[0;32m   1205\u001b[0m \u001b[1;33m\u001b[0m\u001b[0m\n\u001b[0;32m   1206\u001b[0m         \u001b[1;32mreturn\u001b[0m \u001b[0mstructured_traceback_parts\u001b[0m\u001b[1;33m\u001b[0m\u001b[0m\n",
      "\u001b[1;31mIndexError\u001b[0m: string index out of range"
     ]
    }
   ],
   "source": [
    "# # ### PFA ###\n",
    "ard.set_pump_state(0)\n",
    "ard.set_valve_state(\"PFA\",1)\n",
    "ard.set_pump_state(2000)\n",
    "sleep(4.*60.)\n",
    "ard.set_pump_state(300)\n",
    "ard.set_valve_state(\"PFA\",0)\n",
    "sleep(5.*60.)\n",
    "print \"Done.\""
   ]
  },
  {
   "cell_type": "markdown",
   "metadata": {},
   "source": [
    "#### 50% Methanol:Acetone (3 lane)"
   ]
  },
  {
   "cell_type": "code",
   "execution_count": 7,
   "metadata": {},
   "outputs": [
    {
     "name": "stdout",
     "output_type": "stream",
     "text": [
      "[0,1,1,9,0];1;0\n",
      "[0,1,1,9,0];1;0\n",
      "[0,1,1,9,0];1;2000\n",
      "[0,1,1,9,0];1;900\n",
      "[0,1,1,9,0];0;900\n",
      "Done.\n"
     ]
    }
   ],
   "source": [
    "# # ### PFA ###\n",
    "ard.set_pump_state(0)\n",
    "ard.set_valve_state(\"PFA\",1)\n",
    "ard.set_pump_state(2000)\n",
    "sleep(4.*60.)\n",
    "ard.set_pump_state(900)\n",
    "ard.set_valve_state(\"PFA\",0)\n",
    "sleep(5.*60.)\n",
    "print \"Done.\""
   ]
  },
  {
   "cell_type": "markdown",
   "metadata": {},
   "source": [
    "#### Methanol:Acetone"
   ]
  },
  {
   "cell_type": "code",
   "execution_count": null,
   "metadata": {},
   "outputs": [],
   "source": [
    "print \"Methanol:Acetone\"\n",
    "ard.set_pump_state(0)\n",
    "ard.set_valve_state(\"EtOH\",1)\n",
    "ard.set_pump_state(2000)\n",
    "sleep(4.*60.)\n",
    "ard.set_pump_state(300)\n",
    "sleep(5.*60.)\n",
    "ard.set_pump_state(100)\n",
    "ard.set_valve_state(\"EtOH\",0)\n",
    "for i in range(45):\n",
    "    sleep(60.)\n",
    "    print i\n",
    "print \"50 % Methanol:Acetone\"\n",
    "ard.set_pump_state(0)\n",
    "ard.set_valve_state(\"PFA\",1)\n",
    "ard.set_pump_state(2000)\n",
    "sleep(4.*60.)\n",
    "ard.set_pump_state(300)\n",
    "ard.set_valve_state(\"PFA\",0)\n",
    "sleep(5.*60.)\n",
    "print \"SSC\"\n",
    "ard.set_pump_state(0)\n",
    "ard.set_valve_state(\"SSC\",1)\n",
    "ard.set_pump_state(2000)\n",
    "sleep(4.*60.)\n",
    "ard.set_pump_state(300)\n",
    "ard.set_valve_state(\"SSC\",0)\n",
    "sleep(5.*60.)\n",
    "ard.set_pump_state(100)\n",
    "print \"Done.\""
   ]
  },
  {
   "cell_type": "markdown",
   "metadata": {},
   "source": [
    "#### Methanol:Acetone (3 lane)"
   ]
  },
  {
   "cell_type": "code",
   "execution_count": null,
   "metadata": {},
   "outputs": [
    {
     "name": "stdout",
     "output_type": "stream",
     "text": [
      "[0,1,1,10,0];0;900\n",
      "[0,1,1,10,0];0;900\n",
      "[0,1,1,10,0];0;100\n",
      "0\n",
      "1\n",
      "2\n",
      "3\n",
      "4\n",
      "5\n",
      "6\n",
      "7\n",
      "8\n",
      "9\n",
      "10\n",
      "11\n",
      "12\n",
      "13\n",
      "14\n",
      "15\n",
      "16\n",
      "17\n",
      "18\n",
      "19\n",
      "20\n",
      "21\n",
      "22\n",
      "23\n",
      "24\n",
      "25\n",
      "26\n",
      "27\n",
      "28\n",
      "29\n",
      "30\n",
      "31\n",
      "32\n",
      "33\n",
      "34\n",
      "35\n",
      "36\n",
      "37\n",
      "38\n",
      "39\n",
      "40\n",
      "41\n",
      "42\n",
      "43\n",
      "44\n",
      "50 % Methanol:Acetone\n",
      "[0,1,1,10,0];0;0\n",
      "[0,1,1,9,0];1;0\n",
      "[0,1,1,9,0];1;2000\n",
      "[0,1,1,9,0];1;900\n",
      "[0,1,1,9,0];0;900\n",
      "SSC\n",
      "[0,1,1,9,0];0;0\n",
      "[0,1,1,8,0];1;0\n",
      "[0,1,1,8,0];1;2000\n",
      "[0,1,1,8,0];1;900\n",
      "[0,1,1,8,0];0;900\n"
     ]
    }
   ],
   "source": [
    "# print \"Methanol:Acetone\"\n",
    "# ard.set_pump_state(0)\n",
    "# ard.set_valve_state(\"EtOH\",1)\n",
    "# ard.set_pump_state(2000)\n",
    "# sleep(4.*60.)\n",
    "ard.set_pump_state(900)\n",
    "ard.set_valve_state(\"EtOH\",0)\n",
    "sleep(3.*60.)\n",
    "ard.set_pump_state(100)\n",
    "for i in range(45):\n",
    "    sleep(60.)\n",
    "    print i\n",
    "print \"50 % Methanol:Acetone\"\n",
    "ard.set_pump_state(0)\n",
    "ard.set_valve_state(\"PFA\",1)\n",
    "ard.set_pump_state(2000)\n",
    "sleep(4.*60.)\n",
    "ard.set_pump_state(900)\n",
    "ard.set_valve_state(\"PFA\",0)\n",
    "sleep(5.*60.)\n",
    "print \"SSC\"\n",
    "ard.set_pump_state(0)\n",
    "ard.set_valve_state(\"SSC\",1)\n",
    "ard.set_pump_state(2000)\n",
    "sleep(4.*60.)\n",
    "ard.set_pump_state(900)\n",
    "ard.set_valve_state(\"SSC\",0)\n",
    "sleep(5.*60.)\n",
    "ard.set_pump_state(100)\n",
    "print \"Done.\""
   ]
  },
  {
   "cell_type": "markdown",
   "metadata": {},
   "source": [
    "#### Imaging Cycle with no cleave (for probe 1)"
   ]
  },
  {
   "cell_type": "code",
   "execution_count": 7,
   "metadata": {},
   "outputs": [
    {
     "name": "stdout",
     "output_type": "stream",
     "text": [
      "HYB\n",
      "[0,1,1,9,0];1;0\n",
      "[0,2,1,12,0];1;0\n",
      "[0,2,1,12,0];1;2000\n",
      "[0,2,1,12,0];1;600\n",
      "[0,2,1,12,0];0;600\n",
      "IMG\n",
      "[0,2,1,12,0];0;0\n",
      "[0,1,1,11,0];1;0\n",
      "[0,1,1,11,0];1;2000\n",
      "[0,1,1,11,0];1;600\n",
      "[0,1,1,11,0];0;600\n",
      "[0,1,1,11,0];0;150\n",
      "Ready to image.\n"
     ]
    }
   ],
   "source": [
    "probe_name = \"Probe 1\"\n",
    "\n",
    "### HYBRIDIZATION ###\n",
    "print \"HYB\"\n",
    "ard.set_pump_state(0)\n",
    "ard.set_valve_state(probe_name,1)\n",
    "ard.set_pump_state(2000)\n",
    "sleep(4.*60.)\n",
    "ard.set_pump_state(600)\n",
    "ard.set_valve_state(probe_name,0)\n",
    "sleep(13.*60.)\n",
    "# ### IMAGING ###\n",
    "print \"IMG\"\n",
    "ard.set_pump_state(0)\n",
    "ard.set_valve_state(\"Image\",1)\n",
    "ard.set_pump_state(2000)\n",
    "sleep(4.*60.)\n",
    "ard.set_pump_state(600)\n",
    "ard.set_valve_state(\"Image\",0)\n",
    "sleep(8.*60.)\n",
    "ard.set_pump_state(150)\n",
    "sleep(5.*60.)\n",
    "print(\"Ready to image.\")"
   ]
  },
  {
   "cell_type": "code",
   "execution_count": 11,
   "metadata": {},
   "outputs": [
    {
     "name": "stdout",
     "output_type": "stream",
     "text": [
      "[0,1,1,11,0];0;150\n"
     ]
    }
   ],
   "source": [
    "ard.set_pump_state(150)"
   ]
  },
  {
   "cell_type": "code",
   "execution_count": null,
   "metadata": {},
   "outputs": [],
   "source": [
    "probe_name = \"Probe 1\"\n",
    "\n",
    "ard.set_pump_state(150)\n",
    "print(\"Ready to image.\")"
   ]
  },
  {
   "cell_type": "code",
   "execution_count": null,
   "metadata": {},
   "outputs": [],
   "source": []
  },
  {
   "cell_type": "markdown",
   "metadata": {},
   "source": [
    "#### Imaging Cycle with no cleave (for probes > 1)"
   ]
  },
  {
   "cell_type": "code",
   "execution_count": 21,
   "metadata": {},
   "outputs": [
    {
     "name": "stdout",
     "output_type": "stream",
     "text": [
      "CLV\n",
      "[0,1,1,11,0];0;0\n",
      "[0,1,1,12,0];1;0\n",
      "[0,1,1,12,0];1;2000\n",
      "[0,1,1,12,0];1;900\n",
      "[0,1,1,12,0];0;900\n",
      "SSC\n",
      "[0,1,1,12,0];0;0\n",
      "[0,1,1,8,0];1;0\n",
      "[0,1,1,8,0];1;2000\n",
      "[0,1,1,8,0];1;900\n",
      "[0,1,1,8,0];0;900\n",
      "HYB\n",
      "[0,1,1,8,0];0;0\n",
      "[0,9,1,12,0];1;0\n",
      "[0,9,1,12,0];1;2000\n",
      "[0,9,1,12,0];1;300\n",
      "[0,9,1,12,0];0;300\n",
      "IMG\n",
      "[0,9,1,12,0];0;0\n",
      "[0,1,1,11,0];1;0\n",
      "[0,1,1,11,0];1;2000\n",
      "[0,1,1,11,0];1;300\n",
      "[0,1,1,11,0];0;300\n",
      "Ready to image.\n"
     ]
    }
   ],
   "source": [
    "probe_name = \"Probe 8\"\n",
    "### Cleavage ###\n",
    "print \"CLV\"\n",
    "ard.set_pump_state(0)\n",
    "ard.set_valve_state(\"Cleave\",1)\n",
    "ard.set_pump_state(2000)\n",
    "sleep(4.*60.)\n",
    "ard.set_pump_state(900)\n",
    "ard.set_valve_state(\"Cleave\",0)\n",
    "sleep(10.*60.)\n",
    "# ard.set_pump_state(150)\n",
    "# sleep(5.*60.)\n",
    "### SSC WASH ###\n",
    "print \"SSC\"\n",
    "ard.set_pump_state(0)\n",
    "ard.set_valve_state(\"SSC\",1)\n",
    "ard.set_pump_state(2000)\n",
    "sleep(4.*60.)\n",
    "ard.set_pump_state(900)\n",
    "ard.set_valve_state(\"SSC\",0)\n",
    "sleep(5.*60.)\n",
    "### HYBRIDIZATION ###\n",
    "print \"HYB\"\n",
    "ard.set_pump_state(0)\n",
    "ard.set_valve_state(probe_name,1)\n",
    "ard.set_pump_state(2000)\n",
    "sleep(4.*60.)\n",
    "ard.set_pump_state(300)\n",
    "ard.set_valve_state(probe_name,0)\n",
    "sleep(18.*60.)\n",
    "### IMAGING ###\n",
    "print \"IMG\"\n",
    "ard.set_pump_state(0)\n",
    "ard.set_valve_state(\"Image\",1)\n",
    "ard.set_pump_state(2000)\n",
    "sleep(4.*60.)\n",
    "ard.set_pump_state(300)\n",
    "ard.set_valve_state(\"Image\",0)\n",
    "sleep(10.*60.)\n",
    "# ard.set_pump_state(150)\n",
    "# sleep(8.*60.)\n",
    "print(\"Ready to image.\")"
   ]
  },
  {
   "cell_type": "code",
   "execution_count": null,
   "metadata": {},
   "outputs": [],
   "source": []
  },
  {
   "cell_type": "code",
   "execution_count": null,
   "metadata": {},
   "outputs": [],
   "source": [
    "probe_name = \"Probe 1\"\n",
    "\n",
    "### SSC WASH ###\n",
    "ard.set_pump_state(0)\n",
    "ard.set_valve_state(\"SSC\",1)\n",
    "ard.set_pump_state(2000)\n",
    "sleep(60.)\n",
    "### HYBRIDIZATION ###\n",
    "ard.set_pump_state(0)\n",
    "ard.set_valve_state(probe_name,1)\n",
    "ard.set_pump_state(2000)\n",
    "# sleep(3.*60.)\n",
    "ard.set_pump_state(300)\n",
    "ard.set_valve_state(probe_name,0)\n",
    "# sleep(13.*60.)\n",
    "### IMAGING ###\n",
    "ard.set_pump_state(0)\n",
    "ard.set_valve_state(\"Image\",1)\n",
    "ard.set_pump_state(2000)\n",
    "# sleep(3.*60.)\n",
    "ard.set_pump_state(300)\n",
    "ard.set_valve_state(\"Image\",0)\n",
    "# sleep(8.*60.)\n",
    "print(\"Ready to image.\")"
   ]
  },
  {
   "cell_type": "code",
   "execution_count": 22,
   "metadata": {},
   "outputs": [
    {
     "name": "stdout",
     "output_type": "stream",
     "text": [
      "[0,1,1,11,0];0;0\n",
      "[0,10,1,12,0];0;0\n",
      "[0,10,1,12,0];0;2000\n",
      "[0,10,1,12,0];0;0\n",
      "[0,9,1,12,0];0;0\n",
      "[0,9,1,12,0];0;2000\n",
      "[0,9,1,12,0];0;0\n",
      "[0,2,1,12,0];0;0\n",
      "[0,2,1,12,0];0;2000\n",
      "[0,2,1,12,0];0;0\n",
      "[0,4,1,12,0];0;0\n",
      "[0,4,1,12,0];0;2000\n",
      "[0,4,1,12,0];0;0\n",
      "[0,3,1,12,0];0;0\n",
      "[0,3,1,12,0];0;2000\n",
      "[0,3,1,12,0];0;0\n",
      "[0,6,1,12,0];0;0\n",
      "[0,6,1,12,0];0;2000\n",
      "[0,6,1,12,0];0;0\n",
      "[0,5,1,12,0];0;0\n",
      "[0,5,1,12,0];0;2000\n",
      "[0,5,1,12,0];0;0\n",
      "[0,8,1,12,0];0;0\n",
      "[0,8,1,12,0];0;2000\n",
      "[0,8,1,12,0];0;0\n",
      "[0,7,1,12,0];0;0\n",
      "[0,7,1,12,0];0;2000\n",
      "[0,7,1,12,0];0;0\n",
      "[0,1,1,2,0];0;0\n",
      "[0,1,1,2,0];0;2000\n",
      "[0,1,1,2,0];0;0\n",
      "[0,1,10,12,0];0;0\n",
      "[0,1,10,12,0];0;2000\n",
      "[0,1,10,12,0];0;0\n",
      "[0,1,11,12,0];0;0\n",
      "[0,1,11,12,0];0;2000\n",
      "[0,1,11,12,0];0;0\n",
      "[0,1,12,12,0];0;0\n",
      "[0,1,12,12,0];0;2000\n",
      "[0,1,12,12,0];0;0\n",
      "[0,1,1,1,0];0;0\n",
      "[0,1,1,1,0];0;2000\n",
      "[0,1,1,1,0];0;0\n",
      "[0,1,1,10,0];0;0\n",
      "[0,1,1,10,0];0;2000\n",
      "[0,1,1,10,0];0;0\n",
      "[0,1,1,12,0];0;0\n",
      "[0,1,1,12,0];0;2000\n",
      "[0,1,1,12,0];0;0\n",
      "[0,1,5,12,0];0;0\n",
      "[0,1,5,12,0];0;2000\n",
      "[0,1,5,12,0];0;0\n",
      "[0,1,4,12,0];0;0\n",
      "[0,1,4,12,0];0;2000\n",
      "[0,1,4,12,0];0;0\n",
      "[0,1,7,12,0];0;0\n",
      "[0,1,7,12,0];0;2000\n",
      "[0,1,7,12,0];0;0\n",
      "[0,1,6,12,0];0;0\n",
      "[0,1,6,12,0];0;2000\n",
      "[0,1,6,12,0];0;0\n",
      "[0,12,1,12,0];0;0\n",
      "[0,12,1,12,0];0;2000\n",
      "[0,12,1,12,0];0;0\n",
      "[0,11,1,12,0];0;0\n",
      "[0,11,1,12,0];0;2000\n",
      "[0,11,1,12,0];0;0\n",
      "[0,1,3,12,0];0;0\n",
      "[0,1,3,12,0];0;2000\n",
      "[0,1,3,12,0];0;0\n",
      "[0,1,2,12,0];0;0\n",
      "[0,1,2,12,0];0;2000\n",
      "[0,1,2,12,0];0;0\n",
      "[0,1,9,12,0];0;0\n",
      "[0,1,9,12,0];0;2000\n",
      "[0,1,9,12,0];0;0\n",
      "[0,1,8,12,0];0;0\n",
      "[0,1,8,12,0];0;2000\n",
      "[0,1,8,12,0];0;0\n",
      "[0,1,1,9,0];0;0\n",
      "[0,1,1,9,0];0;2000\n",
      "[0,1,1,9,0];0;0\n",
      "[0,1,1,11,0];0;0\n",
      "[0,1,1,11,0];0;2000\n",
      "[0,1,1,11,0];0;0\n",
      "[0,1,1,8,0];0;0\n",
      "[0,1,1,8,0];0;2000\n",
      "[0,1,1,8,0];0;0\n",
      "[0,1,1,11,0];1;0\n",
      "[0,1,1,11,0];1;2000\n",
      "[0,1,1,11,0];1;0\n",
      "[0,1,1,11,0];0;0\n"
     ]
    }
   ],
   "source": [
    "### Cleaning Protocol ###\n",
    "\n",
    "for state_name,_ in ard.titanx_states.items():\n",
    "    ard.set_pump_state(0)\n",
    "    ard.set_valve_state(state_name,0)\n",
    "    ard.set_pump_state(2000)\n",
    "    sleep(90.)\n",
    "ard.set_pump_state(0)\n",
    "ard.set_valve_state(\"Image\",1)\n",
    "ard.set_pump_state(2000)\n",
    "sleep(5.*60.)\n",
    "ard.set_pump_state(0)\n",
    "ard.set_valve_state(\"Image\",0)"
   ]
  },
  {
   "cell_type": "code",
   "execution_count": null,
   "metadata": {},
   "outputs": [],
   "source": [
    "ard.set_pump_state(0)"
   ]
  },
  {
   "cell_type": "code",
   "execution_count": null,
   "metadata": {},
   "outputs": [],
   "source": []
  }
 ],
 "metadata": {
  "kernelspec": {
   "display_name": "Python 2",
   "language": "python",
   "name": "python2"
  },
  "language_info": {
   "codemirror_mode": {
    "name": "ipython",
    "version": 2
   },
   "file_extension": ".py",
   "mimetype": "text/x-python",
   "name": "python",
   "nbconvert_exporter": "python",
   "pygments_lexer": "ipython2",
   "version": "2.7.16"
  }
 },
 "nbformat": 4,
 "nbformat_minor": 2
}
